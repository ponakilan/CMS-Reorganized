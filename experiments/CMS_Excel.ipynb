{
 "cells": [
  {
   "cell_type": "code",
   "execution_count": null,
   "id": "30d32a17276c3af3",
   "metadata": {},
   "outputs": [],
   "source": [
    "import time\n",
    "\n",
    "# Timer\n",
    "start = time.time()"
   ]
  },
  {
   "cell_type": "markdown",
   "id": "f2788c03ff36891b",
   "metadata": {},
   "source": [
    "## Initial setup\n",
    "Create a new Spark SQL session or get the session if it already exists."
   ]
  },
  {
   "cell_type": "code",
   "execution_count": 2,
   "id": "e850d2715774fcb3",
   "metadata": {
    "ExecuteTime": {
     "end_time": "2024-12-07T04:40:40.860569Z",
     "start_time": "2024-12-07T04:40:36.572604Z"
    }
   },
   "outputs": [
    {
     "name": "stderr",
     "output_type": "stream",
     "text": [
      "24/12/12 13:47:00 WARN Utils: Your hostname, Akilan-Yoga resolves to a loopback address: 127.0.1.1; using 172.17.55.5 instead (on interface eth0)\n",
      "24/12/12 13:47:00 WARN Utils: Set SPARK_LOCAL_IP if you need to bind to another address\n",
      "Setting default log level to \"WARN\".\n",
      "To adjust logging level use sc.setLogLevel(newLevel). For SparkR, use setLogLevel(newLevel).\n",
      "24/12/12 13:47:02 WARN NativeCodeLoader: Unable to load native-hadoop library for your platform... using builtin-java classes where applicable\n",
      "24/12/12 13:47:03 WARN Utils: Service 'SparkUI' could not bind on port 4040. Attempting port 4041.\n"
     ]
    },
    {
     "data": {
      "text/html": [
       "\n",
       "            <div>\n",
       "                <p><b>SparkSession - in-memory</b></p>\n",
       "                \n",
       "        <div>\n",
       "            <p><b>SparkContext</b></p>\n",
       "\n",
       "            <p><a href=\"http://172.17.55.5:4041\">Spark UI</a></p>\n",
       "\n",
       "            <dl>\n",
       "              <dt>Version</dt>\n",
       "                <dd><code>v3.5.3</code></dd>\n",
       "              <dt>Master</dt>\n",
       "                <dd><code>local[*]</code></dd>\n",
       "              <dt>AppName</dt>\n",
       "                <dd><code>CMS-Refactor</code></dd>\n",
       "            </dl>\n",
       "        </div>\n",
       "        \n",
       "            </div>\n",
       "        "
      ],
      "text/plain": [
       "<pyspark.sql.session.SparkSession at 0x7f0e60547bc0>"
      ]
     },
     "execution_count": 2,
     "metadata": {},
     "output_type": "execute_result"
    }
   ],
   "source": [
    "import pyspark\n",
    "import pandas as pd\n",
    "from pyspark.sql import SparkSession\n",
    "\n",
    "spark = SparkSession.builder.appName(\"CMS-Refactor\").getOrCreate()\n",
    "spark.sparkContext.setLogLevel(\"ERROR\")\n",
    "spark"
   ]
  },
  {
   "cell_type": "markdown",
   "id": "62b882b0d862163c",
   "metadata": {},
   "source": [
    "## Paths for required files\n",
    "All the public files (mentioned in **bold**) which are downloaded from the public sources are under `Data/Public`. \n",
    "All the private files (mentioned in *italic*) which will be used to filter the large datasets are under `Data/Private`. \n",
    "#### Required files\n",
    "- **CMS B** - `Medicare_Physician_Other_Practitioners_by_Provider_and_Service_2022.csv`\n",
    "- **CMS D** - `MUP_DPR_RY24_P04_V10_DY22_NPIBN.csv`\n",
    "- **Open Payments** - `OP_DTL_GNRL_PGYR2023_P06282024_06122024.csv`\n",
    "- **NPPES** - `npidata_pfile_20050523-20241110.csv`\n",
    "- **NUCC Taxanomy** - `nucc_taxonomy_241.csv`\n",
    "- *Unique HCPCS* - `cms_b_unique_hcpcs.csv`\n",
    "- *CMS D Generic Names* - `cms_d_gnrc_name.csv`\n",
    "- *Openpay Drug Mappings* - `openpay_drug_mappings.csv`\n",
    "- *Speciality Mappings* - `speciality_mappings.csv`"
   ]
  },
  {
   "cell_type": "code",
   "execution_count": 3,
   "id": "8de0efdc-c698-44b8-80f3-d1c30255ade6",
   "metadata": {},
   "outputs": [],
   "source": [
    "public_dir = \"Data/Public\"\n",
    "private_workbook = \"Data/Private/filtering_info.xlsx\"\n",
    "\n",
    "public_files = {\n",
    "    \"cms_b\": \"Medicare_Physician_Other_Practitioners_by_Provider_and_Service_2022.csv\",\n",
    "    \"cms_d\": \"MUP_DPR_RY24_P04_V10_DY22_NPIBN.csv\",\n",
    "    \"openpay\": \"OP_DTL_GNRL_PGYR2023_P06282024_06122024.csv\",\n",
    "    \"nppes\": \"npidata_pfile_20050523-20241110.csv\",\n",
    "    \"nucc\": \"nucc_taxonomy_241.csv\"\n",
    "}\n",
    "\n",
    "private_sheets = {\n",
    "    \"cms_b\": 0,\n",
    "    \"cms_d\": 1,\n",
    "    \"openpay\": 2,\n",
    "    \"taxonomy\": 3\n",
    "}"
   ]
  },
  {
   "cell_type": "markdown",
   "id": "52226b55-5c69-4a0f-917e-00eee7386448",
   "metadata": {},
   "source": [
    "## CMS-B Data\n",
    "The CMS-B dataset contains information about various medicare practitioners - by provider and service. \n",
    "This data has to be processed to get the information about the total beneficiaries and total claims relating to the drugs of interest."
   ]
  },
  {
   "cell_type": "markdown",
   "id": "c7b7e55b-27fa-4488-bbf2-6bd8aa9f7bc9",
   "metadata": {},
   "source": [
    "### Filtering the data\n",
    "The CMS-B dataset contains information about numerous Medicare procedures, supplies, and other services. \n",
    "The dataset can be filtered based on two criteria.\n",
    "- Interested drug or service (Based on **HCPCS Code**)\n",
    "- Interested area (Based on **NPI**)"
   ]
  },
  {
   "cell_type": "code",
   "execution_count": 4,
   "id": "02f12b05-1d6a-4559-acfd-f1b547d2c9c3",
   "metadata": {},
   "outputs": [
    {
     "name": "stderr",
     "output_type": "stream",
     "text": [
      "[Stage 6:=================>                                        (4 + 9) / 13]\r"
     ]
    },
    {
     "name": "stdout",
     "output_type": "stream",
     "text": [
      "Shape after filtering based on drugs: (3915, 31)\n"
     ]
    },
    {
     "name": "stderr",
     "output_type": "stream",
     "text": [
      "                                                                                \r"
     ]
    }
   ],
   "source": [
    "def shape(dataframe: pyspark.sql.DataFrame):\n",
    "    \"\"\"\n",
    "    Returns the shape of the dataframe as a tuple.\n",
    "    \"\"\"\n",
    "    return (dataframe.count(), len(dataframe.columns))\n",
    "\n",
    "# Read the CMS-B dataset\n",
    "cms_b = spark.read.csv(\n",
    "    f\"{public_dir}/{public_files['cms_b']}\",\n",
    "    header = True,\n",
    "    inferSchema=True\n",
    ")\n",
    "\n",
    "# Filter based on interested drug or service\n",
    "interested_drugs = spark.createDataFrame(\n",
    "    pd.read_excel(\n",
    "        private_workbook,\n",
    "        sheet_name=private_sheets['cms_b']\n",
    "    )   \n",
    ")\n",
    "cms_b_filtered = cms_b.join(\n",
    "    interested_drugs, \n",
    "    'HCPCS_Cd', \n",
    "    'inner'\n",
    ")\n",
    "print(f\"Shape after filtering based on drugs: {shape(cms_b_filtered)}\")"
   ]
  },
  {
   "cell_type": "markdown",
   "id": "3f5dae8b-904f-47f7-837f-67a7166ca22d",
   "metadata": {
    "execution": {
     "iopub.execute_input": "2024-12-07T07:18:11.624262Z",
     "iopub.status.busy": "2024-12-07T07:18:11.624262Z",
     "iopub.status.idle": "2024-12-07T07:18:12.205440Z",
     "shell.execute_reply": "2024-12-07T07:18:12.205440Z",
     "shell.execute_reply.started": "2024-12-07T07:18:11.624262Z"
    }
   },
   "source": [
    "### Select the required columns\n",
    "The CMS-B dataset contains a lot of information which is not required for this project.\n",
    "Only a few columns are required for this project.\n",
    "- Rndrng_NPI\n",
    "- BRAND\n",
    "- Tot_Benes\n",
    "- Tot_Srvcs"
   ]
  },
  {
   "cell_type": "code",
   "execution_count": 5,
   "id": "581544cb-84b9-48ce-9eef-1706609b25cf",
   "metadata": {},
   "outputs": [
    {
     "data": {
      "text/plain": [
       "['Rndrng_NPI', 'BRAND', 'Tot_Benes', 'Tot_Srvcs']"
      ]
     },
     "execution_count": 5,
     "metadata": {},
     "output_type": "execute_result"
    }
   ],
   "source": [
    "# Select the required columns\n",
    "cms_b_selected = cms_b_filtered.select(['Rndrng_NPI', 'BRAND', 'Tot_Benes', 'Tot_Srvcs'])\n",
    "cms_b_selected.columns"
   ]
  },
  {
   "cell_type": "markdown",
   "id": "24465f9e-547a-4e4a-b139-7f9cd70f98f5",
   "metadata": {},
   "source": [
    "### Rename the columns\n",
    "The columns are renamed for better understandability.\n",
    "- Rndrng_NPI --> NPI\n",
    "- BRAND --> Drug_Name\n",
    "- Tot_Benes (*No changes*)\n",
    "- Tot_Srvcs --> Tot_Clms"
   ]
  },
  {
   "cell_type": "code",
   "execution_count": 6,
   "id": "336187c3-93a3-4c47-9154-9c785cbb8b81",
   "metadata": {},
   "outputs": [
    {
     "data": {
      "text/plain": [
       "['NPI', 'Drug_Name', 'Tot_Benes', 'Tot_Clms']"
      ]
     },
     "execution_count": 6,
     "metadata": {},
     "output_type": "execute_result"
    }
   ],
   "source": [
    "# Rename the columns\n",
    "cms_b_renamed = (\n",
    "    cms_b_selected\n",
    "    .withColumnRenamed(\"Rndrng_NPI\", \"NPI\")\n",
    "    .withColumnRenamed(\"BRAND\", \"Drug_Name\")\n",
    "    .withColumnRenamed(\"Tot_Srvcs\", \"Tot_Clms\")\n",
    ")\n",
    "cms_b_renamed.columns"
   ]
  },
  {
   "cell_type": "markdown",
   "id": "96867e0f-005c-449a-bfb6-e4fcb5a705d1",
   "metadata": {},
   "source": [
    "### Restructuring the data\n",
    "- The **Tot_Clms** field is in float, but the total claims should be an integer. The **Tot_Clms** field is converted into an integer.\n",
    "- Define a function to check for null values, which can be reused whenever there is a need to check for null values in the future. Check for null values.\n",
    "- The data is grouped based on the **Drug_Name** and the **Tot_Benes** & **Tot_Clms** are summed."
   ]
  },
  {
   "cell_type": "code",
   "execution_count": 7,
   "id": "f15d4554-19c1-44b3-aa0a-ef8180b4ce32",
   "metadata": {},
   "outputs": [
    {
     "name": "stdout",
     "output_type": "stream",
     "text": [
      "root\n",
      " |-- NPI: integer (nullable = true)\n",
      " |-- Drug_Name: string (nullable = true)\n",
      " |-- Tot_Benes: integer (nullable = true)\n",
      " |-- Tot_Clms: integer (nullable = true)\n",
      "\n"
     ]
    }
   ],
   "source": [
    "# Change the data type of Tot_Clms to 'int'\n",
    "cms_b_corrected = cms_b_renamed.withColumn(\n",
    "    \"Tot_Clms\",\n",
    "    cms_b_renamed.Tot_Clms.cast('int')\n",
    ")\n",
    "cms_b_corrected.printSchema()"
   ]
  },
  {
   "cell_type": "code",
   "execution_count": 8,
   "id": "146a6ed0-9a70-4c1e-887b-f9f4ae5b4d48",
   "metadata": {},
   "outputs": [],
   "source": [
    "from pyspark.sql.functions import *\n",
    "\n",
    "def is_null(dataframe: pyspark.sql.DataFrame):\n",
    "    \"\"\"\n",
    "    Checks for null values in every field of the dataframe and prints the count. \n",
    "    \"\"\"\n",
    "    return dataframe.select(\n",
    "        [count(when(isnan(c) | col(c).isNull(), c)).alias(c) for c in dataframe.columns]\n",
    "    )"
   ]
  },
  {
   "cell_type": "code",
   "execution_count": 9,
   "id": "3fc4c55b-a97b-45ca-a5b1-cc1e31aa0e96",
   "metadata": {},
   "outputs": [
    {
     "name": "stderr",
     "output_type": "stream",
     "text": [
      "[Stage 15:============>                                           (3 + 10) / 13]\r"
     ]
    },
    {
     "name": "stdout",
     "output_type": "stream",
     "text": [
      "+---------+---------+--------+\n",
      "|Drug_Name|Tot_Benes|Tot_Clms|\n",
      "+---------+---------+--------+\n",
      "|  STELARA|      224|   34310|\n",
      "|  ENTYVIO|     9307| 6101149|\n",
      "|RENFLEXIS|     2156|  329964|\n",
      "|  SIMPONI|    28219|17031175|\n",
      "| REMICADE|    32759| 5713699|\n",
      "|   CIMZIA|    21819|51914531|\n",
      "|INFLECTRA|     1274|  188303|\n",
      "|   AVSOLA|      342|   50012|\n",
      "+---------+---------+--------+\n",
      "\n"
     ]
    },
    {
     "name": "stderr",
     "output_type": "stream",
     "text": [
      "                                                                                \r"
     ]
    }
   ],
   "source": [
    "cms_b_grouped = cms_b_corrected.groupby(\"Drug_Name\").agg(\n",
    "    sum(\"Tot_Benes\").alias(\"Tot_Benes\"),\n",
    "    sum(\"Tot_Clms\").alias(\"Tot_Clms\")\n",
    ")\n",
    "cms_b_grouped.show()"
   ]
  },
  {
   "cell_type": "markdown",
   "id": "5e59df3f-5dea-4d65-a37e-8c84797878f9",
   "metadata": {},
   "source": [
    "## CMS-D Data\n",
    "The CMS-D dataset contains information about various medicare prescribers - by provider and drug. \n",
    "This data has to be processed to get the information about the total beneficiaries and total claims relating to the drugs of interest."
   ]
  },
  {
   "cell_type": "markdown",
   "id": "e65e7211-30a1-4cfd-a7fb-365bd21b4c4d",
   "metadata": {},
   "source": [
    "### Filtering the data\n",
    "The CMS-D dataset can be filtered based on,\n",
    "- Brand name\n",
    "- Interested speciality\n",
    "\n",
    "Before starting to process the data, only the required columns are selected.\n",
    "- Prscrbr_NPI\n",
    "- Brnd_Name\n",
    "- Gnrc_Name\n",
    "- Tot_Clms\n",
    "- Tot_Benes\n",
    "\n",
    "Once the required columns are selected, all the values in the **Brnd_Name** column is converted into lowercase.\n",
    "This conversion will ensure that the brand names match with the brand names in the file containing information about the drugs of interest."
   ]
  },
  {
   "cell_type": "code",
   "execution_count": 10,
   "id": "f03feec4-5fe3-4c3e-86d0-e8e0ae5961e3",
   "metadata": {},
   "outputs": [
    {
     "name": "stderr",
     "output_type": "stream",
     "text": [
      "                                                                                \r"
     ]
    }
   ],
   "source": [
    "# Load the CMS Part-D data\n",
    "cms_d = spark.read.csv(\n",
    "    f\"{public_dir}/{public_files['cms_d']}\",\n",
    "    header=True,\n",
    "    inferSchema=True\n",
    ")\n",
    "\n",
    "# Select the required columns\n",
    "cms_d_selected = cms_d.select([\"Prscrbr_NPI\", \"Brnd_Name\", \"Gnrc_Name\", \"Tot_Clms\", \"Tot_Benes\"])\n",
    "\n",
    "# Convert the 'Brnd_Name' field to lowercase\n",
    "cms_d_lower = cms_d_selected.withColumn(\n",
    "    \"Brnd_Name\",\n",
    "    lower(cms_d_selected[\"Brnd_Name\"])\n",
    ")"
   ]
  },
  {
   "cell_type": "markdown",
   "id": "3f19fcf2-c466-4941-a962-03da3add53e0",
   "metadata": {},
   "source": [
    "### Filter the data\n",
    "This data can be filtered based on two criteria:\n",
    "- Brand name (*Given in a separate file*)\n",
    "- Area (*Given in speciality_mappings*)"
   ]
  },
  {
   "cell_type": "code",
   "execution_count": 11,
   "id": "9ee6a48a-aa78-4feb-b40f-ba6421f8551e",
   "metadata": {},
   "outputs": [
    {
     "name": "stderr",
     "output_type": "stream",
     "text": [
      "[Stage 26:===================================================>    (12 + 1) / 13]\r"
     ]
    },
    {
     "name": "stdout",
     "output_type": "stream",
     "text": [
      "Shape after filtering based on drugs: (24285, 7)\n"
     ]
    },
    {
     "name": "stderr",
     "output_type": "stream",
     "text": [
      "                                                                                \r"
     ]
    }
   ],
   "source": [
    "# Filter the data based on drug\n",
    "interested_drugs = spark.createDataFrame(\n",
    "    pd.read_excel(\n",
    "        private_workbook,\n",
    "        sheet_name=private_sheets['cms_d']\n",
    "    )\n",
    ")\n",
    "cms_d_filtered = cms_d_lower.join(\n",
    "    interested_drugs,\n",
    "    \"Brnd_Name\",\n",
    "    \"inner\"\n",
    ")\n",
    "print(f\"Shape after filtering based on drugs: {shape(cms_d_filtered)}\")"
   ]
  },
  {
   "cell_type": "markdown",
   "id": "ccda3ba3-f553-44b4-9640-515eeef536d1",
   "metadata": {},
   "source": [
    "### Select the required columns\n",
    "Redundant and unwanted columns will exist after joining.\n",
    "Only a few columns are required for this project.\n",
    "- Prscrbr_NPI\n",
    "- BRAND\n",
    "- Tot_Benes\n",
    "- Tot_Clms"
   ]
  },
  {
   "cell_type": "code",
   "execution_count": 12,
   "id": "da4b2523-3bc3-424e-b8ce-b8cf9ea60775",
   "metadata": {},
   "outputs": [
    {
     "data": {
      "text/plain": [
       "['Prscrbr_NPI', 'BRAND', 'Tot_Benes', 'Tot_Clms']"
      ]
     },
     "execution_count": 12,
     "metadata": {},
     "output_type": "execute_result"
    }
   ],
   "source": [
    "cms_d_selected = cms_d_filtered.select([\"Prscrbr_NPI\", \"BRAND\", \"Tot_Benes\", \"Tot_Clms\"])\n",
    "cms_d_selected.columns"
   ]
  },
  {
   "cell_type": "markdown",
   "id": "30766ddc-a0ed-41dc-84af-8d5ac9f8cdd8",
   "metadata": {},
   "source": [
    "### Rename the columns\n",
    "The columns are renamed for better understandability.\n",
    "- Prscrbr_NPI --> NPI\n",
    "- BRAND --> Drug_Name\n",
    "- Tot_Benes (*No changes*)\n",
    "- Tot_Srvcs (*No changes*)"
   ]
  },
  {
   "cell_type": "code",
   "execution_count": 13,
   "id": "79104090-3dd0-4470-8102-cc540e9c0dd9",
   "metadata": {},
   "outputs": [
    {
     "data": {
      "text/plain": [
       "['NPI', 'Drug_Name', 'Tot_Benes', 'Tot_Clms']"
      ]
     },
     "execution_count": 13,
     "metadata": {},
     "output_type": "execute_result"
    }
   ],
   "source": [
    "# Rename the columns\n",
    "cms_d_renamed = (\n",
    "    cms_d_selected\n",
    "    .withColumnRenamed(\"Prscrbr_NPI\", \"NPI\")\n",
    "    .withColumnRenamed(\"BRAND\", \"Drug_Name\")\n",
    ")\n",
    "cms_d_renamed.columns"
   ]
  },
  {
   "cell_type": "markdown",
   "id": "31d929bf-fbb9-4c28-9bb4-8f5b972c0c5b",
   "metadata": {
    "execution": {
     "iopub.execute_input": "2024-12-07T10:23:50.472562Z",
     "iopub.status.busy": "2024-12-07T10:23:50.472562Z",
     "iopub.status.idle": "2024-12-07T10:23:50.480461Z",
     "shell.execute_reply": "2024-12-07T10:23:50.480461Z",
     "shell.execute_reply.started": "2024-12-07T10:23:50.472562Z"
    }
   },
   "source": [
    "### Check for null values\n",
    "Check for null vlaues in every field of the data frame and count the number of null values in each field.\n",
    "All the null values are filled with 0."
   ]
  },
  {
   "cell_type": "code",
   "execution_count": 14,
   "id": "349bcb25-b17f-446c-aaca-f7c1c6f91687",
   "metadata": {},
   "outputs": [
    {
     "name": "stderr",
     "output_type": "stream",
     "text": [
      "                                                                                \r"
     ]
    }
   ],
   "source": [
    "# Check for null values\n",
    "is_null(cms_d_renamed).toPandas()\n",
    "\n",
    "# Replace null values with 0\n",
    "cms_d_full = cms_d_renamed.fillna(\n",
    "    value = 0,\n",
    "    subset = \"Tot_Benes\"\n",
    ")"
   ]
  },
  {
   "cell_type": "markdown",
   "id": "0dafe802-2c2a-458e-8792-e74b8e989d8b",
   "metadata": {},
   "source": [
    "### Group by drug name\n",
    "The data is grouped based on the drug name and the values in the fields **Tot_Benes** & **Tot_Clms** are aggregated."
   ]
  },
  {
   "cell_type": "code",
   "execution_count": 18,
   "id": "6f2eeb8a-b9dc-4624-b37a-a2bec2310a26",
   "metadata": {},
   "outputs": [
    {
     "name": "stderr",
     "output_type": "stream",
     "text": [
      "[Stage 71:===================================>                     (8 + 5) / 13]\r"
     ]
    },
    {
     "name": "stdout",
     "output_type": "stream",
     "text": [
      "+---------+---------+--------+\n",
      "|Drug_Name|Tot_Benes|Tot_Clms|\n",
      "+---------+---------+--------+\n",
      "|   CIMZIA|      189|   25341|\n",
      "|   HUMIRA|    22531|  532317|\n",
      "|  SIMPONI|      217|   18305|\n",
      "|RENFLEXIS|        0|     335|\n",
      "|INFLECTRA|       76|    1464|\n",
      "| REMICADE|      338|    7148|\n",
      "|  SKYRIZI|      413|   11756|\n",
      "|  STELARA|     2715|   55854|\n",
      "|  ZEPOSIA|        0|    2253|\n",
      "|  ENTYVIO|        0|    3427|\n",
      "+---------+---------+--------+\n",
      "\n"
     ]
    },
    {
     "name": "stderr",
     "output_type": "stream",
     "text": [
      "                                                                                \r"
     ]
    }
   ],
   "source": [
    "cms_d_grouped = cms_d_full.groupby(\"Drug_Name\").agg(\n",
    "    sum(\"Tot_Benes\").alias(\"Tot_Benes\"),\n",
    "    sum(\"Tot_Clms\").alias(\"Tot_Clms\")\n",
    ")\n",
    "cms_d_grouped.show()"
   ]
  },
  {
   "cell_type": "markdown",
   "id": "9f78e791-244a-4882-b373-106d11291a70",
   "metadata": {},
   "source": [
    "## Combining CMS-B and CMS-D\n",
    "This block processes CMS data by merging two datasets (`cms_b_corrected` and `cms_d_full`) into `cms_combined` and grouping it by `NPI` and `Drug_Name` to aggregate total beneficiaries (`Tot_Benes`) and claims (`Tot_Clms`). The grouped data is pivoted on `Drug_Name` to create a wide-format table, `cms_pivot`, with sums for each drug. Missing values are filled with zeros, and null values are checked."
   ]
  },
  {
   "cell_type": "code",
   "execution_count": 19,
   "id": "d7909fb5-10b7-499f-a19e-8076d5629838",
   "metadata": {},
   "outputs": [
    {
     "name": "stderr",
     "output_type": "stream",
     "text": [
      "                                                                                \r"
     ]
    }
   ],
   "source": [
    "cms_combined = cms_b_corrected.union(cms_d_full)\n",
    "cms_grouped = cms_combined.groupBy(\"NPI\", \"Drug_Name\").agg(\n",
    "    sum(\"Tot_Benes\").alias(\"Tot_Benes\"),\n",
    "    sum(\"Tot_Clms\").alias(\"Tot_Clms\")\n",
    ")\n",
    "cms_pivot = (\n",
    "    cms_grouped\n",
    "    .groupBy(\"NPI\")\n",
    "    .pivot(\"Drug_Name\")\n",
    "    .sum(\"Tot_Benes\", \"Tot_Clms\")\n",
    ")\n",
    "cms_pivot = cms_pivot.fillna(value=0)"
   ]
  },
  {
   "cell_type": "markdown",
   "id": "45326de5-8547-439b-8e7e-00a6c17a2a76",
   "metadata": {},
   "source": [
    "## Open Payments Data\n",
    "Only required columns are selected from the *Open Payments* data and the records containing **NULL** values in `Covered_Recipient_NPI` are dropped.\n",
    "The data is filtered based on interested drugs and then columns are renamed for convenience. \n",
    "The data is pivoted on `Nature_Of_Payment` and `Covered_Recipient_NPI`."
   ]
  },
  {
   "cell_type": "code",
   "execution_count": 20,
   "id": "5286bfc0-be43-4e9e-a377-1f0838b3c66d",
   "metadata": {},
   "outputs": [
    {
     "name": "stderr",
     "output_type": "stream",
     "text": [
      "                                                                                \r"
     ]
    }
   ],
   "source": [
    "# Open open payments data and select only the required fields\n",
    "open_payments = spark.read.csv(\n",
    "    f\"{public_dir}/{public_files['openpay']}\",\n",
    "    header=True,\n",
    "    inferSchema=True\n",
    ")\n",
    "open_payments_selected = open_payments.select([\n",
    "    \"Covered_Recipient_NPI\",\n",
    "    \"Total_Amount_of_Payment_USDollars\",\n",
    "    \"Date_of_Payment\",\n",
    "    \"Number_of_Payments_Included_in_Total_Amount\",\n",
    "    \"Form_of_Payment_or_Transfer_of_Value\",\n",
    "    \"Nature_of_Payment_or_Transfer_of_Value\",\n",
    "    \"Name_of_Drug_or_Biological_or_Device_or_Medical_Supply_1\"\n",
    "])\n",
    "\n",
    "# Drop entries with null values\n",
    "open_payments_dropped = open_payments_selected.dropna(subset=\"Covered_Recipient_NPI\")"
   ]
  },
  {
   "cell_type": "code",
   "execution_count": 21,
   "id": "ae7cc43c-0203-44eb-8b3d-7810ebf92995",
   "metadata": {},
   "outputs": [],
   "source": [
    "# Filtering based on interested drugs\n",
    "openpay_intd_drugs = spark.createDataFrame(\n",
    "    pd.read_excel(\n",
    "        private_workbook,\n",
    "        sheet_name=private_sheets['openpay']\n",
    "    )\n",
    ")\n",
    "open_payments_filtered = open_payments_dropped.join(\n",
    "    openpay_intd_drugs,\n",
    "    open_payments_dropped.Name_of_Drug_or_Biological_or_Device_or_Medical_Supply_1 == openpay_intd_drugs.Drug_Name,\n",
    "    \"inner\"\n",
    ")"
   ]
  },
  {
   "cell_type": "code",
   "execution_count": 22,
   "id": "2cc6d525-b186-46b6-ba9b-d181ef934e3d",
   "metadata": {},
   "outputs": [],
   "source": [
    "# Drop unwanted fields and rename categories\n",
    "open_payments_filtered = open_payments_filtered.drop(\"Drug_Name\")\n",
    "\n",
    "open_payments_mapped = open_payments_filtered.withColumn(\n",
    "    \"Nature_of_Payment\",\n",
    "    when(col(\"Nature_of_Payment_or_Transfer_of_Value\") == \"Food and Beverage\", \"FOOD&BEVERAGE\")\n",
    "    .when(col(\"Nature_of_Payment_or_Transfer_of_Value\") == \"Consulting Fee\", \"CONSULTING\")\n",
    "    .when(col(\"Nature_of_Payment_or_Transfer_of_Value\") == \"Travel and Lodging\", \"TRAVEL\")\n",
    "    .when(col(\"Nature_of_Payment_or_Transfer_of_Value\") == \"Education\", \"EDUCATION\")\n",
    "    .when(col(\"Nature_of_Payment_or_Transfer_of_Value\").rlike(\"Compensation\"), \"SPEAKER\")\n",
    "    .otherwise(\"OTHERS_GENERAL\")\n",
    ")"
   ]
  },
  {
   "cell_type": "code",
   "execution_count": 23,
   "id": "8eedb759-e05e-43d6-b95c-9160a1aba220",
   "metadata": {},
   "outputs": [
    {
     "name": "stderr",
     "output_type": "stream",
     "text": [
      "                                                                                \r"
     ]
    }
   ],
   "source": [
    "# Convert 'Total_Amount_of_Payment_USDollars' to 'int'\n",
    "open_payments_casted = open_payments_mapped.withColumn(\n",
    "    \"Total_Amount_of_Payment_USDollars\",\n",
    "    open_payments_mapped.Total_Amount_of_Payment_USDollars.cast('int')\n",
    ")\n",
    "\n",
    "# Pivot 'Nature_of_Payment' and fill null values with 0\n",
    "open_payments_pivot_1 = (\n",
    "    open_payments_casted\n",
    "    .groupBy(\"Covered_Recipient_NPI\", \"Name_of_Drug_or_Biological_or_Device_or_Medical_Supply_1\")\n",
    "    .pivot(\"Nature_of_Payment\")\n",
    "    .sum(\"Total_Amount_of_Payment_USDollars\")\n",
    "    .fillna(value=0)\n",
    ")\n",
    "\n",
    "# Pivot 'Name_of_Drug_or_Biological_or_Device_or_Medical_Supply_1'\n",
    "open_payments_pivot_2 = (\n",
    "    open_payments_pivot_1\n",
    "    .groupBy(\"Covered_Recipient_NPI\")\n",
    "    .pivot(\"Name_of_Drug_or_Biological_or_Device_or_Medical_Supply_1\")\n",
    "    .sum('CONSULTING','EDUCATION','FOOD&BEVERAGE','OTHERS_GENERAL','SPEAKER','TRAVEL')\n",
    ")"
   ]
  },
  {
   "cell_type": "markdown",
   "id": "cd4c4fc8-342c-4ce4-89f6-89e28ebb350c",
   "metadata": {},
   "source": [
    "## Merging CMS and OpenPayments\n",
    "The *CMS* and *Open Payments* data are combined using an outer join on `NPI`.\n",
    "The columns `Covered_Recipient_NPI` and `NPI` are combined since they both contain NPIs and the null values are filled with 0."
   ]
  },
  {
   "cell_type": "code",
   "execution_count": 24,
   "id": "aa0d38f1-fc7c-4da9-9aad-562af3bbd168",
   "metadata": {},
   "outputs": [],
   "source": [
    "# Outer join based on 'NPI'\n",
    "openpay_cms = open_payments_pivot_2.join(\n",
    "    cms_pivot,\n",
    "    open_payments_pivot_2.Covered_Recipient_NPI == cms_pivot.NPI,\n",
    "    \"outer\"\n",
    ")\n",
    "\n",
    "# Combine both the NPI fields\n",
    "openpay_cms_combined_npi = openpay_cms.withColumn(\n",
    "    \"Covered_Recipient_NPI\",\n",
    "    coalesce(\n",
    "        openpay_cms['Covered_Recipient_NPI'],\n",
    "        openpay_cms['NPI']\n",
    "    )\n",
    ")\n",
    "\n",
    "# Drop the duplicate NPI field and fill null values with 0\n",
    "openpay_cms_drop_NPI = openpay_cms_combined_npi.drop(\"NPI\")\n",
    "openpay_cms_final = openpay_cms_drop_NPI.fillna(value=0)"
   ]
  },
  {
   "cell_type": "markdown",
   "id": "6c40540e-dfd4-4a9d-9f31-37fe8fbc218c",
   "metadata": {},
   "source": [
    "## NPPES Data\n",
    "Only required columns are selected from the *NPPES* data and the `Provider Last Name (Legal Name)` renamed to `Provider Last Name` for convenience."
   ]
  },
  {
   "cell_type": "code",
   "execution_count": 25,
   "id": "6bc110a8-764b-4188-8584-2dfa5cbccf6a",
   "metadata": {},
   "outputs": [
    {
     "name": "stderr",
     "output_type": "stream",
     "text": [
      "                                                                                \r"
     ]
    }
   ],
   "source": [
    "nppes = spark.read.csv(\n",
    "    f\"{public_dir}/{public_files['nppes']}\",\n",
    "    header=True,\n",
    "    inferSchema=True\n",
    ")\n",
    "\n",
    "# Select only the required columns and rename the 'Last Name' column\n",
    "nppes_selected = nppes.select(\n",
    "    'NPI', \n",
    "    'Provider Last Name (Legal Name)', \n",
    "    'Provider First Name', \n",
    "    'Provider Middle Name', \n",
    "    'Provider First Line Business Mailing Address', \n",
    "    'Provider Business Mailing Address City Name', \n",
    "    'Provider Business Mailing Address State Name', \n",
    "    'Provider Business Mailing Address Postal Code',\n",
    "    'Healthcare Provider Taxonomy Code_1',\n",
    "    'Healthcare Provider Taxonomy Code_2',\n",
    "    'Healthcare Provider Taxonomy Code_3'\n",
    ")\n",
    "nppes_selected = nppes_selected.withColumnRenamed(\n",
    "    'Provider Last Name (Legal Name)',\n",
    "    'Provider Last Name'\n",
    ")"
   ]
  },
  {
   "cell_type": "markdown",
   "id": "bf91cc27-bf61-4ce7-beeb-b4352e388c23",
   "metadata": {},
   "source": [
    "## Taxonomy Data\n",
    "Combine NPPES provider data with NUCC taxonomy data to enrich the provider records with classification and specialization details. The datasets are joined using taxonomy codes, and the resulting data includes up to three levels of taxonomy classifications and specializations, with unnecessary columns removed after each join."
   ]
  },
  {
   "cell_type": "code",
   "execution_count": 26,
   "id": "765c2848-6b18-42f3-8fa1-b68584a853a0",
   "metadata": {},
   "outputs": [],
   "source": [
    "# Read the taxonomy data\n",
    "nucc = spark.read.csv(\n",
    "    f\"{public_dir}/{public_files['nucc']}\",\n",
    "    header=True,\n",
    "    inferSchema=True\n",
    ")\n",
    "\n",
    "# Merging NUCC and NPPES data\n",
    "nppes_nucc = nppes_selected.join(\n",
    "    nucc,\n",
    "    nppes_selected[\"Healthcare Provider Taxonomy Code_1\"] == nucc.Code,\n",
    "    'left'\n",
    ")\n",
    "nppes_nucc = nppes_nucc.drop('Code', 'grouping', 'display_name')\n",
    "nppes_nucc = nppes_nucc.withColumnRenamed(\"classification\", \"Primary_Classification\")\n",
    "nppes_nucc = nppes_nucc.withColumnRenamed(\"specialization\", \"Primary_Specialization\")\n",
    "\n",
    "nppes_nucc = nppes_nucc.join(\n",
    "    nucc,\n",
    "    nppes_nucc[\"Healthcare Provider Taxonomy Code_2\"] == nucc.Code,\n",
    "    'left'\n",
    ")\n",
    "nppes_nucc = nppes_nucc.drop('Code', 'grouping', 'display_name')\n",
    "nppes_nucc = nppes_nucc.withColumnRenamed(\"classification\", \"Secondary_Classification\")\n",
    "nppes_nucc = nppes_nucc.withColumnRenamed(\"specialization\", \"Secondary_Specialization\")\n",
    "\n",
    "nppes_nucc = nppes_nucc.join(\n",
    "    nucc,\n",
    "    nppes_nucc[\"Healthcare Provider Taxonomy Code_3\"] == nucc.Code,\n",
    "    'left'\n",
    ")\n",
    "nppes_nucc = nppes_nucc.drop('Code', 'grouping', 'display_name')\n",
    "nppes_nucc = nppes_nucc.withColumnRenamed(\"classification\", \"Tertiary_Classification\")\n",
    "nppes_nucc = nppes_nucc.withColumnRenamed(\"specialization\", \"Tertiary_Specialization\")"
   ]
  },
  {
   "cell_type": "markdown",
   "id": "9826f6f4-22e4-44b6-a28e-2d654660b5ad",
   "metadata": {
    "execution": {
     "iopub.execute_input": "2024-12-11T07:20:32.605612Z",
     "iopub.status.busy": "2024-12-11T07:20:32.605612Z",
     "iopub.status.idle": "2024-12-11T07:20:32.615389Z",
     "shell.execute_reply": "2024-12-11T07:20:32.614873Z",
     "shell.execute_reply.started": "2024-12-11T07:20:32.605612Z"
    }
   },
   "source": [
    "### Filtering and Cleaning\n",
    "1. **Filter by Taxonomy Codes**:\n",
    "   - Taxonomy codes of interest are loaded from the file and extracted into a list.\n",
    "   - The NPPES dataset is filtered to include only records where at least one of the three taxonomy codes matches the required codes.\n",
    "2. **Drop Unwanted Columns**:\n",
    "   - After filtering, unnecessary columns such as taxonomy codes and intermediate fields (`Code`, `grouping`, `display_name`) are removed.\n",
    "3. **Resulting Dataset**:\n",
    "   - The final dataset includes only the relevant providers and retains essential classification and specialization details."
   ]
  },
  {
   "cell_type": "code",
   "execution_count": 27,
   "id": "b1a6feb6-76fe-4d35-bcb4-94b4f91187af",
   "metadata": {},
   "outputs": [],
   "source": [
    "# Filter only the interested area based on the taxonomy codes\n",
    "tax_codes = spark.createDataFrame(\n",
    "    pd.read_excel(\n",
    "        private_workbook,\n",
    "        sheet_name=private_sheets['taxonomy']\n",
    "    )\n",
    ")\n",
    "required_codes = list(\n",
    "    map(\n",
    "        lambda obj: obj.Code,\n",
    "        tax_codes.select('Code').collect()\n",
    "    )\n",
    ")\n",
    "\n",
    "# Only filter if taxonomy codes are given\n",
    "if len(required_codes) > 0:\n",
    "    tax_code_cond = (\n",
    "        (nppes_nucc[\"Healthcare Provider Taxonomy Code_1\"].isin(required_codes)) \n",
    "        | (nppes_nucc[\"Healthcare Provider Taxonomy Code_2\"].isin(required_codes)) \n",
    "        | (nppes_nucc[\"Healthcare Provider Taxonomy Code_3\"].isin(required_codes))\n",
    "    )\n",
    "    nppes_nucc_filtered = nppes_nucc.filter(tax_code_cond)\n",
    "else:\n",
    "    nppes_nucc_filtered = nppes_nucc\n",
    "\n",
    "# Drop unwanted columns\n",
    "nppes_nucc_dropped = nppes_nucc_filtered.drop(*[\n",
    "    'Code',\n",
    "    'grouping',\n",
    "    'display_name',\n",
    "    'Healthcare Provider Taxonomy Code_1',\n",
    "    'Healthcare Provider Taxonomy Code_2',\n",
    "    'Healthcare Provider Taxonomy Code_3'\n",
    "])"
   ]
  },
  {
   "cell_type": "markdown",
   "id": "b06c3c04-28d5-4ba0-8059-fd7e89c25523",
   "metadata": {},
   "source": [
    "## Merging with CMS\n",
    "1. **Merge with CMS Data**:  \n",
    "   - The filtered NPPES dataset is joined with CMS data on the `NPI` and `Covered_Recipient_NPI` columns to combine relevant information.\n",
    "   - The duplicate `Covered_Recipient_NPI` column is dropped after the join.\n",
    "2. **Rename Columns**:\n",
    "   - Columns containing `Tot_Benes` are renamed to replace it with `Patients`.\n",
    "   - Columns containing `Tot_Clms` are renamed to replace it with `Claims`.\n",
    "   - Columns with aggregated function names (e.g., `sum(`) have the function name and parentheses removed for cleaner naming.\n",
    "\n",
    "The resulting dataset is saved to `final_out.csv`."
   ]
  },
  {
   "cell_type": "code",
   "execution_count": 28,
   "id": "fa5f62fe-5635-4a63-b8c5-5172f32ac894",
   "metadata": {},
   "outputs": [
    {
     "name": "stderr",
     "output_type": "stream",
     "text": [
      "                                                                                \r"
     ]
    },
    {
     "data": {
      "text/plain": [
       "(10196, 72)"
      ]
     },
     "execution_count": 28,
     "metadata": {},
     "output_type": "execute_result"
    }
   ],
   "source": [
    "# Merge with CMS data and drop the duplicate NPI column\n",
    "final_joined = nppes_nucc_dropped.join(\n",
    "    openpay_cms_final,\n",
    "    nppes_nucc_dropped.NPI == openpay_cms_final.Covered_Recipient_NPI,\n",
    "    'inner'\n",
    ")\n",
    "final = final_joined.drop(\"Covered_Recipient_NPI\")\n",
    "\n",
    "# Renaming the columns\n",
    "for col in final.columns:\n",
    "    if \"Tot_Benes\" in col:\n",
    "        final=final.withColumnRenamed(col,col.replace(\"Tot_Benes\",\"Patients\"))\n",
    "    if \"Tot_Clms\" in col:\n",
    "        final=final.withColumnRenamed(col,col.replace(\"Tot_Clms\",\"Claims\"))\n",
    "\n",
    "for col in final.columns:\n",
    "    if \"sum(\" in col:\n",
    "        final=final.withColumnRenamed(col,col.replace(\"sum(\",\"\").replace(\")\",\"\"))\n",
    "        \n",
    "final.toPandas().to_csv(\"final_out.csv\")\n",
    "shape(final)"
   ]
  },
  {
   "cell_type": "code",
   "execution_count": 29,
   "id": "8a74b8ce-b73c-44f3-af7a-2c835278a133",
   "metadata": {},
   "outputs": [
    {
     "name": "stdout",
     "output_type": "stream",
     "text": [
      "Completed execution in 839.5360860824585 seconds.\n"
     ]
    }
   ],
   "source": [
    "# Timer\n",
    "end = time.time()\n",
    "print(f\"Completed execution in {end - start} seconds.\")"
   ]
  },
  {
   "cell_type": "code",
   "execution_count": 30,
   "id": "dc49b3d8-3d96-4a2b-b5d7-c0e4c987f3cd",
   "metadata": {},
   "outputs": [
    {
     "name": "stderr",
     "output_type": "stream",
     "text": [
      "                                                                                \r"
     ]
    },
    {
     "data": {
      "text/plain": [
       "((3915, 4), (24285, 4))"
      ]
     },
     "execution_count": 30,
     "metadata": {},
     "output_type": "execute_result"
    }
   ],
   "source": [
    "shape(cms_b_corrected), shape(cms_d_full)"
   ]
  },
  {
   "cell_type": "code",
   "execution_count": 31,
   "id": "3d2bdb04-a890-4bdd-b677-094c815c251d",
   "metadata": {},
   "outputs": [
    {
     "name": "stderr",
     "output_type": "stream",
     "text": [
      "                                                                                \r"
     ]
    },
    {
     "data": {
      "text/plain": [
       "(44338, 25)"
      ]
     },
     "execution_count": 31,
     "metadata": {},
     "output_type": "execute_result"
    }
   ],
   "source": [
    "shape(open_payments_pivot_2)"
   ]
  }
 ],
 "metadata": {
  "kernelspec": {
   "display_name": "Python 3 (ipykernel)",
   "language": "python",
   "name": "python3"
  },
  "language_info": {
   "codemirror_mode": {
    "name": "ipython",
    "version": 3
   },
   "file_extension": ".py",
   "mimetype": "text/x-python",
   "name": "python",
   "nbconvert_exporter": "python",
   "pygments_lexer": "ipython3",
   "version": "3.10.16"
  }
 },
 "nbformat": 4,
 "nbformat_minor": 5
}
