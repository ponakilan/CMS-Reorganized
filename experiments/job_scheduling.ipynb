{
 "cells": [
  {
   "cell_type": "code",
   "execution_count": 1,
   "id": "initial_id",
   "metadata": {},
   "outputs": [],
   "source": [
    "from datetime import datetime\n",
    "from uuid import uuid4\n",
    "\n",
    "\n",
    "now = datetime.now()\n",
    "username = \"ponakilan\"\n",
    "with open(f\"{username}_{now}_{uuid4()}\", \"w\") as f:\n",
    "    pass"
   ]
  },
  {
   "cell_type": "code",
   "execution_count": 2,
   "id": "170c0a4f-66dc-406d-be0b-3c8f7565f31d",
   "metadata": {},
   "outputs": [
    {
     "ename": "ValueError",
     "evalue": "not enough values to unpack (expected 3, got 1)",
     "output_type": "error",
     "traceback": [
      "\u001b[0;31m---------------------------------------------------------------------------\u001b[0m",
      "\u001b[0;31mValueError\u001b[0m                                Traceback (most recent call last)",
      "Cell \u001b[0;32mIn[2], line 11\u001b[0m\n\u001b[1;32m      5\u001b[0m files_d \u001b[38;5;241m=\u001b[39m {\n\u001b[1;32m      6\u001b[0m     \u001b[38;5;124m\"\u001b[39m\u001b[38;5;124musername\u001b[39m\u001b[38;5;124m\"\u001b[39m: [],\n\u001b[1;32m      7\u001b[0m     \u001b[38;5;124m\"\u001b[39m\u001b[38;5;124mtime\u001b[39m\u001b[38;5;124m\"\u001b[39m: [],\n\u001b[1;32m      8\u001b[0m     \u001b[38;5;124m\"\u001b[39m\u001b[38;5;124mjob_id\u001b[39m\u001b[38;5;124m\"\u001b[39m: []\n\u001b[1;32m      9\u001b[0m }\n\u001b[1;32m     10\u001b[0m \u001b[38;5;28;01mfor\u001b[39;00m file \u001b[38;5;129;01min\u001b[39;00m files:\n\u001b[0;32m---> 11\u001b[0m     username, time, uuid \u001b[38;5;241m=\u001b[39m file\u001b[38;5;241m.\u001b[39msplit(\u001b[38;5;124m'\u001b[39m\u001b[38;5;124m_\u001b[39m\u001b[38;5;124m'\u001b[39m)\n\u001b[1;32m     12\u001b[0m     files_d[\u001b[38;5;124m'\u001b[39m\u001b[38;5;124musername\u001b[39m\u001b[38;5;124m'\u001b[39m]\u001b[38;5;241m.\u001b[39mappend(username)\n\u001b[1;32m     13\u001b[0m     files_d[\u001b[38;5;124m'\u001b[39m\u001b[38;5;124mtime\u001b[39m\u001b[38;5;124m'\u001b[39m]\u001b[38;5;241m.\u001b[39mappend(time)\n",
      "\u001b[0;31mValueError\u001b[0m: not enough values to unpack (expected 3, got 1)"
     ]
    }
   ],
   "source": [
    "import os\n",
    "\n",
    "files = os.listdir(\"Files\")\n",
    "\n",
    "files_d = {\n",
    "    \"username\": [],\n",
    "    \"time\": [],\n",
    "    \"job_id\": []\n",
    "}\n",
    "for file in files:\n",
    "    username, time, uuid = file.split('_')\n",
    "    files_d['username'].append(username)\n",
    "    files_d['time'].append(time)\n",
    "    files_d['job_id'].append(uuid)\n",
    "files_d"
   ]
  },
  {
   "cell_type": "code",
   "execution_count": 4,
   "id": "3be55b22-0031-4128-9fd0-3df8226d2b92",
   "metadata": {},
   "outputs": [
    {
     "data": {
      "text/html": [
       "<div>\n",
       "<style scoped>\n",
       "    .dataframe tbody tr th:only-of-type {\n",
       "        vertical-align: middle;\n",
       "    }\n",
       "\n",
       "    .dataframe tbody tr th {\n",
       "        vertical-align: top;\n",
       "    }\n",
       "\n",
       "    .dataframe thead th {\n",
       "        text-align: right;\n",
       "    }\n",
       "</style>\n",
       "<table border=\"1\" class=\"dataframe\">\n",
       "  <thead>\n",
       "    <tr style=\"text-align: right;\">\n",
       "      <th></th>\n",
       "      <th>username</th>\n",
       "      <th>time</th>\n",
       "      <th>job_id</th>\n",
       "    </tr>\n",
       "  </thead>\n",
       "  <tbody>\n",
       "  </tbody>\n",
       "</table>\n",
       "</div>"
      ],
      "text/plain": [
       "Empty DataFrame\n",
       "Columns: [username, time, job_id]\n",
       "Index: []"
      ]
     },
     "execution_count": 4,
     "metadata": {},
     "output_type": "execute_result"
    }
   ],
   "source": [
    "import pandas as pd\n",
    "\n",
    "df = pd.DataFrame(files_d)\n",
    "df"
   ]
  },
  {
   "cell_type": "code",
   "execution_count": 5,
   "id": "26829b75-e1e4-4e68-a11f-778111f08af7",
   "metadata": {},
   "outputs": [
    {
     "data": {
      "text/plain": [
       "DataFrame[job_id: string, username: string, in_time: string, out_time: string]"
      ]
     },
     "execution_count": 5,
     "metadata": {},
     "output_type": "execute_result"
    }
   ],
   "source": [
    "from pyspark.sql import SparkSession\n",
    "\n",
    "spark = SparkSession.builder.appName('Jobs-Scheduler').getOrCreate()\n",
    "\n",
    "input_dir = \"Files/Input\"\n",
    "output_dir = \"Files/Output\"\n",
    "username = \"ponakilan\"\n",
    "\n",
    "files_inp = {\n",
    "    \"username\": [],\n",
    "    \"job_id\": [],\n",
    "    \"in_time\": []\n",
    "}\n",
    "for file in os.listdir(input_dir):\n",
    "    username, time, uuid = file.split('_')\n",
    "    files_inp['username'].append(username)\n",
    "    files_inp['in_time'].append(time)\n",
    "    files_inp['job_id'].append(uuid)\n",
    "\n",
    "files_out = {\n",
    "    \"username\": [],\n",
    "    \"job_id\": [],\n",
    "    \"out_time\": []\n",
    "}\n",
    "for file in os.listdir(output_dir):\n",
    "    username, time, uuid = file.split('_')\n",
    "    files_out['username'].append(username)\n",
    "    files_out['out_time'].append(time)\n",
    "    files_out['job_id'].append(uuid)\n",
    "\n",
    "inp_df = spark.createDataFrame(pd.DataFrame(files_inp))\n",
    "out_df = spark.createDataFrame(pd.DataFrame(files_out))\n",
    "\n",
    "df = inp_df.join(out_df.drop(\"username\"), \"job_id\", 'left')\n",
    "df"
   ]
  },
  {
   "cell_type": "code",
   "execution_count": null,
   "id": "c109e16a-b6fb-424f-83d3-c09e4c8dcd46",
   "metadata": {},
   "outputs": [],
   "source": [
    "import json\n",
    "\n",
    "results = json.loads(df.toJSON().first())\n",
    "\n",
    "for key in results:\n",
    "    print(results[key])\n",
    "\n",
    "# To decode the entire DataFrame iterate over the result\n",
    "# of toJSON()\n",
    "\n",
    "def print_rows(row):\n",
    "    data = json.loads(row)\n",
    "    for key in data:\n",
    "        print(\"{key}:{value}\".format(key=key, value=data[key]))"
   ]
  },
  {
   "cell_type": "code",
   "execution_count": 14,
   "id": "d7153bc7-4aeb-4874-8c7b-b8396eeae28d",
   "metadata": {},
   "outputs": [
    {
     "data": {
      "text/plain": [
       "[{'job_id': 'ce1c7b28-5741-4f6b-906e-91e1516991e2',\n",
       "  'username': 'ponakilan',\n",
       "  'in_time': '2024-12-23 06:54:26.920982',\n",
       "  'out_time': '2024-12-23 06:54:26.920982'},\n",
       " {'job_id': '50769605-2cd5-4e9d-9fd8-666b76d9827e',\n",
       "  'username': 'ponakilan',\n",
       "  'in_time': '2024-12-23 06:54:27.195678',\n",
       "  'out_time': None},\n",
       " {'job_id': '02d401b3-255f-4dea-905e-1babaf7bdf41',\n",
       "  'username': 'ponakilan',\n",
       "  'in_time': '2024-12-23 06:54:26.195974',\n",
       "  'out_time': '2024-12-23 06:54:26.195974'},\n",
       " {'job_id': 'f78c1148-f885-4bf9-a6d0-8b299b649dc1',\n",
       "  'username': 'ponakilan',\n",
       "  'in_time': '2024-12-23 06:54:27.559175',\n",
       "  'out_time': None}]"
      ]
     },
     "execution_count": 14,
     "metadata": {},
     "output_type": "execute_result"
    }
   ],
   "source": [
    "import json\n",
    "\n",
    "jobs = df.toPandas().to_json(orient=\"records\")\n",
    "jobs = json.loads(jobs)\n",
    "jobs"
   ]
  },
  {
   "cell_type": "code",
   "execution_count": null,
   "id": "c23461e9-91ca-444e-8da5-b9fe7e899a51",
   "metadata": {},
   "outputs": [],
   "source": []
  }
 ],
 "metadata": {
  "kernelspec": {
   "display_name": "Python 3 (ipykernel)",
   "language": "python",
   "name": "python3"
  },
  "language_info": {
   "codemirror_mode": {
    "name": "ipython",
    "version": 3
   },
   "file_extension": ".py",
   "mimetype": "text/x-python",
   "name": "python",
   "nbconvert_exporter": "python",
   "pygments_lexer": "ipython3",
   "version": "3.9.21"
  }
 },
 "nbformat": 4,
 "nbformat_minor": 5
}
