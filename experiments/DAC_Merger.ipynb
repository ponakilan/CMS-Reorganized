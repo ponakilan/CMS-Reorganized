{
 "cells": [
  {
   "cell_type": "code",
   "execution_count": 42,
   "id": "initial_id",
   "metadata": {},
   "outputs": [
    {
     "data": {
      "text/html": [
       "\n",
       "            <div>\n",
       "                <p><b>SparkSession - in-memory</b></p>\n",
       "                \n",
       "        <div>\n",
       "            <p><b>SparkContext</b></p>\n",
       "\n",
       "            <p><a href=\"http://192.168.1.9:4040\">Spark UI</a></p>\n",
       "\n",
       "            <dl>\n",
       "              <dt>Version</dt>\n",
       "                <dd><code>v3.5.3</code></dd>\n",
       "              <dt>Master</dt>\n",
       "                <dd><code>local[*]</code></dd>\n",
       "              <dt>AppName</dt>\n",
       "                <dd><code>CMS-Refactor</code></dd>\n",
       "            </dl>\n",
       "        </div>\n",
       "        \n",
       "            </div>\n",
       "        "
      ],
      "text/plain": [
       "<pyspark.sql.session.SparkSession at 0x73458a198d00>"
      ]
     },
     "execution_count": 42,
     "metadata": {},
     "output_type": "execute_result"
    }
   ],
   "source": [
    "import pyspark\n",
    "from pyspark.sql import SparkSession\n",
    "\n",
    "spark = SparkSession.builder.appName(\"CMS-Refactor\").getOrCreate()\n",
    "spark.sparkContext.setLogLevel(\"ERROR\")\n",
    "spark"
   ]
  },
  {
   "cell_type": "code",
   "execution_count": 43,
   "id": "df4c7f82-fc4d-40ef-abe2-85b5dc796087",
   "metadata": {},
   "outputs": [
    {
     "name": "stderr",
     "output_type": "stream",
     "text": [
      "                                                                                \r"
     ]
    }
   ],
   "source": [
    "phase_1_path = \"phase_1.csv\"\n",
    "dac_path = \"../CMS-Classic/Data/Public/DAC_NationalDownloadableFile.csv\"\n",
    "\n",
    "phase_1 = spark.read.csv(\n",
    "    phase_1_path,\n",
    "    header=True,\n",
    "    inferSchema=True\n",
    ")\n",
    "\n",
    "dac = spark.read.csv(\n",
    "    dac_path,\n",
    "    header=True,\n",
    "    inferSchema=True\n",
    ")\n",
    "\n",
    "dac = dac.select([\n",
    "    \"NPI\",\n",
    "    \"Facility Name\",\n",
    "    \"org_pac_id\"\n",
    "])"
   ]
  },
  {
   "cell_type": "code",
   "execution_count": 44,
   "id": "601d0f41-db04-4055-a233-0db11aeeff5f",
   "metadata": {},
   "outputs": [],
   "source": [
    "from pyspark.sql.functions import *\n",
    "\n",
    "dac_dropped = dac.dropna()\n",
    "dac_dropped = dac_dropped.dropDuplicates()\n",
    "\n",
    "# Convert org_pac_id to 'int'\n",
    "dac_dropped = dac_dropped.withColumn(\n",
    "    \"org_pac_id\",\n",
    "    floor(dac_dropped.org_pac_id)\n",
    ")\n",
    "\n",
    "grouped_df = dac_dropped.groupBy('NPI').agg(\n",
    "    collect_list(\"Facility Name\").alias(\"Facility_Names\"),\n",
    "    collect_list(\"org_pac_id\").alias(\"org_pac_ids\")\n",
    ")\n",
    "\n",
    "# max_length = grouped_df.selectExpr(\"size(Facility_Names) as size\").rdd.max()[0]\n",
    "max_length = 4\n",
    "\n",
    "for i in range(max_length):\n",
    "    grouped_df = grouped_df.withColumn(f\"Facility_Name_{i+1}\", expr(f\"Facility_Names[{i}]\")).withColumn(f\"Org_pac_id_{i+1}\", expr(f\"org_pac_ids[{i}]\"))\n",
    "\n",
    "grouped_df = grouped_df.drop(\"Facility_Names\", \"org_pac_ids\")"
   ]
  },
  {
   "cell_type": "code",
   "execution_count": 45,
   "id": "eedb3133-251b-4054-bb8e-cc40439753ac",
   "metadata": {},
   "outputs": [
    {
     "name": "stderr",
     "output_type": "stream",
     "text": [
      "                                                                                \r"
     ]
    },
    {
     "data": {
      "text/plain": [
       "8915"
      ]
     },
     "execution_count": 45,
     "metadata": {},
     "output_type": "execute_result"
    }
   ],
   "source": [
    "merged_inner = phase_1.join(\n",
    "    grouped_df,\n",
    "    \"NPI\",\n",
    "    \"inner\"\n",
    ")\n",
    "merged_inner.count()"
   ]
  },
  {
   "cell_type": "code",
   "execution_count": 46,
   "id": "8d76322a-a2b4-46d0-9f75-1279309c9499",
   "metadata": {},
   "outputs": [
    {
     "data": {
      "text/plain": [
       "10196"
      ]
     },
     "execution_count": 46,
     "metadata": {},
     "output_type": "execute_result"
    }
   ],
   "source": [
    "merged_left = phase_1.join(\n",
    "    grouped_df,\n",
    "    \"NPI\",\n",
    "    \"left\"\n",
    ")\n",
    "merged_left.count()"
   ]
  },
  {
   "cell_type": "code",
   "execution_count": 47,
   "id": "503b5ee0-3ec1-47a5-8588-3b0fe180ea5a",
   "metadata": {},
   "outputs": [],
   "source": [
    "# Rearrange the columns\n",
    "columns = phase_1.columns[:27]\n",
    "g_cols = grouped_df.columns\n",
    "g_cols.remove('NPI')\n",
    "columns.extend(g_cols)\n",
    "columns.extend(phase_1.columns[27:])\n",
    "\n",
    "merged_inner = merged_inner.select(columns)\n",
    "merged_left = merged_left.select(columns)"
   ]
  },
  {
   "cell_type": "code",
   "execution_count": 48,
   "id": "75716a89-80e0-40ac-a6b7-48410463b056",
   "metadata": {},
   "outputs": [
    {
     "name": "stderr",
     "output_type": "stream",
     "text": [
      "                                                                                \r"
     ]
    }
   ],
   "source": [
    "merged_inner.toPandas().to_csv(\"outputs/cms_dac_inner.csv\", index=False)\n",
    "merged_left.toPandas().to_csv(\"outputs/cms_dac_left.csv\", index=False)"
   ]
  },
  {
   "cell_type": "code",
   "execution_count": 49,
   "id": "5b6f5b0f-e86b-41b9-bc1b-1db82b6abea8",
   "metadata": {},
   "outputs": [],
   "source": [
    "grouped_df_c = dac_dropped.groupBy('NPI').agg(\n",
    "    collect_list(\"Facility Name\").alias(\"Facility_Names\"),\n",
    "    collect_list(\"org_pac_id\").alias(\"org_pac_ids\")\n",
    ")\n",
    "\n",
    "max_length = grouped_df_c.selectExpr(\"size(Facility_Names) as size\")# .rdd.max()"
   ]
  },
  {
   "cell_type": "code",
   "execution_count": 50,
   "id": "cbda8693-8e56-4e84-b776-dff328524fc9",
   "metadata": {},
   "outputs": [],
   "source": [
    "frequency = max_length.groupBy('size').count()"
   ]
  },
  {
   "cell_type": "code",
   "execution_count": 51,
   "id": "1abc2fbc-6d6d-41c6-9065-70bb2092c031",
   "metadata": {},
   "outputs": [
    {
     "name": "stderr",
     "output_type": "stream",
     "text": [
      "                                                                                \r"
     ]
    }
   ],
   "source": [
    "import pandas as pd\n",
    "\n",
    "frequency_df = frequency.toPandas()"
   ]
  },
  {
   "cell_type": "code",
   "execution_count": 52,
   "id": "333fad3a-0c80-424d-8e79-2e307d795e72",
   "metadata": {},
   "outputs": [],
   "source": [
    "frequency_df = frequency_df.sort_values(by='count', ascending=False).reset_index(drop=True)\n",
    "frequency_df.columns = ['Facility Count', 'Physician Count']\n",
    "frequency_df.to_csv('Facility_frequency.csv', index=False)"
   ]
  },
  {
   "cell_type": "code",
   "execution_count": 53,
   "id": "d70c9bd1-ca59-4b06-89e3-f224ba206222",
   "metadata": {},
   "outputs": [
    {
     "data": {
      "text/plain": [
       "np.float64(1.1802600221990076)"
      ]
     },
     "execution_count": 53,
     "metadata": {},
     "output_type": "execute_result"
    }
   ],
   "source": [
    "weighted_avg = (frequency_df['Facility Count'] * frequency_df['Physician Count']).sum() / frequency_df['Physician Count'].sum()\n",
    "weighted_avg"
   ]
  },
  {
   "cell_type": "code",
   "execution_count": 54,
   "id": "ef00bf41-69e2-437f-85d8-fce0f827e2d6",
   "metadata": {},
   "outputs": [
    {
     "data": {
      "text/html": [
       "<div>\n",
       "<style scoped>\n",
       "    .dataframe tbody tr th:only-of-type {\n",
       "        vertical-align: middle;\n",
       "    }\n",
       "\n",
       "    .dataframe tbody tr th {\n",
       "        vertical-align: top;\n",
       "    }\n",
       "\n",
       "    .dataframe thead th {\n",
       "        text-align: right;\n",
       "    }\n",
       "</style>\n",
       "<table border=\"1\" class=\"dataframe\">\n",
       "  <thead>\n",
       "    <tr style=\"text-align: right;\">\n",
       "      <th></th>\n",
       "      <th>Facility Count</th>\n",
       "      <th>Physician Count</th>\n",
       "    </tr>\n",
       "  </thead>\n",
       "  <tbody>\n",
       "    <tr>\n",
       "      <th>0</th>\n",
       "      <td>1</td>\n",
       "      <td>1060138</td>\n",
       "    </tr>\n",
       "  </tbody>\n",
       "</table>\n",
       "</div>"
      ],
      "text/plain": [
       "   Facility Count  Physician Count\n",
       "0               1          1060138"
      ]
     },
     "execution_count": 54,
     "metadata": {},
     "output_type": "execute_result"
    }
   ],
   "source": [
    "frequency_df[frequency_df['Physician Count'] == frequency_df['Physician Count'].max()]"
   ]
  },
  {
   "cell_type": "code",
   "execution_count": 55,
   "id": "ba284117-893f-4116-ada9-fd76f654738f",
   "metadata": {},
   "outputs": [
    {
     "data": {
      "text/plain": [
       "['NPI',\n",
       " 'Provider Last Name',\n",
       " 'Provider First Name',\n",
       " 'Provider Middle Name',\n",
       " 'Provider First Line Business Mailing Address',\n",
       " 'Provider Business Mailing Address City Name',\n",
       " 'Provider Business Mailing Address State Name',\n",
       " 'Provider Business Mailing Address Postal Code',\n",
       " 'Primary_Classification',\n",
       " 'Primary_Specialization',\n",
       " 'Definition10',\n",
       " 'Notes11',\n",
       " 'Display Name12',\n",
       " 'Section13',\n",
       " 'Secondary_Classification',\n",
       " 'Secondary_Specialization',\n",
       " 'Definition16',\n",
       " 'Notes17',\n",
       " 'Display Name18',\n",
       " 'Section19',\n",
       " 'Tertiary_Classification',\n",
       " 'Tertiary_Specialization',\n",
       " 'Definition22',\n",
       " 'Notes23',\n",
       " 'Display Name24',\n",
       " 'Section25',\n",
       " 'RINVOQ_CONSULTING',\n",
       " 'Facility_Name_1',\n",
       " 'Org_pac_id_1',\n",
       " 'Facility_Name_2',\n",
       " 'Org_pac_id_2',\n",
       " 'Facility_Name_3',\n",
       " 'Org_pac_id_3',\n",
       " 'Facility_Name_4',\n",
       " 'Org_pac_id_4',\n",
       " 'RINVOQ_FOOD&BEVERAGE',\n",
       " 'RINVOQ_OTHERS_GENERAL',\n",
       " 'RINVOQ_EDUCATION',\n",
       " 'RINVOQ_SPEAKER',\n",
       " 'RINVOQ_TRAVEL',\n",
       " 'SKYRIZI_CONSULTING',\n",
       " 'SKYRIZI_FOOD&BEVERAGE',\n",
       " 'SKYRIZI_OTHERS_GENERAL',\n",
       " 'SKYRIZI_EDUCATION',\n",
       " 'SKYRIZI_SPEAKER',\n",
       " 'SKYRIZI_TRAVEL',\n",
       " 'STELARA_CONSULTING',\n",
       " 'STELARA_FOOD&BEVERAGE',\n",
       " 'STELARA_OTHERS_GENERAL',\n",
       " 'STELARA_EDUCATION',\n",
       " 'STELARA_SPEAKER',\n",
       " 'STELARA_TRAVEL',\n",
       " 'ZEPOSIA_CONSULTING',\n",
       " 'ZEPOSIA_FOOD&BEVERAGE',\n",
       " 'ZEPOSIA_OTHERS_GENERAL',\n",
       " 'ZEPOSIA_EDUCATION',\n",
       " 'ZEPOSIA_SPEAKER',\n",
       " 'ZEPOSIA_TRAVEL',\n",
       " 'AVSOLA_Patients',\n",
       " 'AVSOLA_Claims',\n",
       " 'CIMZIA_Patients',\n",
       " 'CIMZIA_Claims',\n",
       " 'ENTYVIO_Patients',\n",
       " 'ENTYVIO_Claims',\n",
       " 'HUMIRA_Patients',\n",
       " 'HUMIRA_Claims',\n",
       " 'INFLECTRA_Patients',\n",
       " 'INFLECTRA_Claims',\n",
       " 'REMICADE_Patients',\n",
       " 'REMICADE_Claims',\n",
       " 'RENFLEXIS_Patients',\n",
       " 'RENFLEXIS_Claims',\n",
       " 'SIMPONI_Patients',\n",
       " 'SIMPONI_Claims',\n",
       " 'SKYRIZI_Patients',\n",
       " 'SKYRIZI_Claims',\n",
       " 'STELARA_Patients',\n",
       " 'STELARA_Claims',\n",
       " 'ZEPOSIA_Patients',\n",
       " 'ZEPOSIA_Claims']"
      ]
     },
     "execution_count": 55,
     "metadata": {},
     "output_type": "execute_result"
    }
   ],
   "source": [
    "merged_inner.columns"
   ]
  }
 ],
 "metadata": {
  "kernelspec": {
   "display_name": "Python 3 (ipykernel)",
   "language": "python",
   "name": "python3"
  },
  "language_info": {
   "codemirror_mode": {
    "name": "ipython",
    "version": 3
   },
   "file_extension": ".py",
   "mimetype": "text/x-python",
   "name": "python",
   "nbconvert_exporter": "python",
   "pygments_lexer": "ipython3",
   "version": "3.10.16"
  }
 },
 "nbformat": 4,
 "nbformat_minor": 5
}
